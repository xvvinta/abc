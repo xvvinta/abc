{
 "cells": [
  {
   "cell_type": "markdown",
   "metadata": {},
   "source": [
    "# Сводная таблица pivot_table\n",
    "\n",
    "Сводная таблица - это мощный инструмент для обобщения и представления данных.\n",
    "\n",
    "В Pandas для подготовки сводных таблиц вызывают метод **pivot_table()**.\n",
    "\n",
    "Аргументы метода:\n",
    "\n",
    "• index — ключи для группировки по индексу (строке)\n",
    "\n",
    "• columns — ключи для группировки столбцов\n",
    "\n",
    "• values — значения, по которым мы хотим увидеть сводную таблицу (столбцы для агрегирования)\n",
    "\n",
    "• aggfunc — функция, применяемая к значениям (т.е. что делать с повторяющимися значениями)\n",
    "\n",
    "<img src=\"https://raw.githubusercontent.com/dm-fedorov/pandas_basic/master/pic/pivot_table_pandas.png\" >\n",
    "\n"
   ]
  },
  {
   "cell_type": "markdown",
   "metadata": {},
   "source": [
    "Построим сводную таблицу для задачи по SEO-оптимизации.\n",
    "Для начала загрузите дата-сет data.final, полученный в результате выполнения предыдущей задачи (объединения таблиц), сохраните ешл в переменной df."
   ]
  },
  {
   "cell_type": "code",
   "execution_count": null,
   "metadata": {},
   "outputs": [],
   "source": [
    "import pandas as pd\n",
    "df = pd.read_csv('data_final.csv')\n",
    "df.info()\n"
   ]
  },
  {
   "cell_type": "markdown",
   "metadata": {},
   "source": [
    "## Поворот данных\n",
    "\n",
    "Создавать сводную таблицу **(pivot_table)** лучше всего последовательно. Добавляйте элементы по одному и проверяйте каждый шаг, чтобы убедиться, что вы получаете ожидаемые результаты. Самая простая сводная таблица должна иметь **DataFrame** и индекс **(index)**. \n",
    "\n",
    "В этом примере давайте использовать **category_name** в качестве индекса:\n",
    "\n",
    "**pd.pivot_table(df, index=[\"category_name\"])**"
   ]
  },
  {
   "cell_type": "code",
   "execution_count": null,
   "metadata": {},
   "outputs": [],
   "source": [
    "data_pivot = df.pivot_table(index=[\"category_name\"])\n",
    "data_pivot\n"
   ]
  },
  {
   "cell_type": "markdown",
   "metadata": {},
   "source": [
    "У вас может быть несколько индексов. Фактически, большинство аргументов **pivot_table** могут принимать несколько значений в качестве элементов списка. Добавьте в список индексов переменную **subcategory_name**."
   ]
  },
  {
   "cell_type": "code",
   "execution_count": null,
   "metadata": {},
   "outputs": [],
   "source": [
    "data_pivot = df.pivot_table(index=['category_name', 'subcategory_name'])\n",
    "data_pivot\n"
   ]
  },
  {
   "cell_type": "markdown",
   "metadata": {},
   "source": [
    "Вы могли заметить, что сводная таблица достаточно умна, чтобы начать агрегирование данных и их обобщение, группируя категории товаров (**category_name**) с их подкатегориями (**subcategory_name**). Теперь мы начинаем понимать, что может сделать для нас сводная таблица.\n",
    "\n",
    "Поскольку в данном случае столбец с количественной переменной только один (**visits**), он автоматически определился в качестве значения параметра **values**. Однако, можно явно определить столбцы, которые нам нужны, с помощью этого параметра **values**:\n",
    "\n",
    "**pd.pivot_table(df, index=['category_name', 'subcategory_name'], values=[\"visits\"])**"
   ]
  },
  {
   "cell_type": "code",
   "execution_count": null,
   "metadata": {},
   "outputs": [],
   "source": [
    "data_pivot = df.pivot_table(index=['category_name', 'subcategory_name'],\n",
    "                                    values='visits')\n",
    "data_pivot\n"
   ]
  },
  {
   "cell_type": "markdown",
   "metadata": {},
   "source": [
    "Столбец цен (**visits**) по умолчанию усредняет данные, но мы можем произвести подсчет количества или суммы. Добавить их можно с помощью параметра **aggfunc**:\n",
    "\n",
    "**pd.pivot_table(df, index=['category_name', 'subcategory_name'], values=[\"visits\"], aggfunc='sum')**"
   ]
  },
  {
   "cell_type": "code",
   "execution_count": null,
   "metadata": {},
   "outputs": [],
   "source": [
    "data_pivot = df.pivot_table(index=['category_name', 'subcategory_name'],\n",
    "                                    values='visits', aggfunc='sum')\n",
    "data_pivot\n"
   ]
  },
  {
   "cell_type": "markdown",
   "metadata": {},
   "source": [
    "**Aggfunc** может принимать список функций.\n",
    "\n",
    "Давайте попробуем узнать среднее значение и количество:\n",
    "\n"
   ]
  },
  {
   "cell_type": "code",
   "execution_count": null,
   "metadata": {},
   "outputs": [],
   "source": [
    "data_pivot = df.pivot_table(index=['category_name', 'subcategory_name'],\n",
    "                                    values='visits', aggfunc=['mean', 'count'])\n",
    "data_pivot\n"
   ]
  },
  {
   "cell_type": "markdown",
   "metadata": {},
   "source": [
    "Если мы хотим увидеть визиты с разбивкой по источникам трафика (**source**), переменная **columns** позволяет нам определить один или несколько столбцов.\n",
    "\n",
    "Одна из сложностей **pivot_table** - это использование столбцов (**columns**) и значений (**values**).\n",
    "\n",
    "Помните, что столбцы необязательны - они предоставляют дополнительный способ сегментировать актуальные значения, которые вам нужны.\n",
    "\n",
    "Функции агрегирования применяются к перечисленным значениям (**values**):\n",
    "\n",
    "**pd.pivot_table(df, index=['category_name', 'subcategory_name'], values=[\"visits\"], columns=[\"source\"], aggfunc='sum'])**\n"
   ]
  },
  {
   "cell_type": "code",
   "execution_count": null,
   "metadata": {},
   "outputs": [],
   "source": [
    "data_pivot = df.pivot_table(index=['category_name', 'subcategory_name'], values=[\"visits\"], columns=[\"source\"], aggfunc='sum')\n",
    "data_pivot\n"
   ]
  },
  {
   "cell_type": "markdown",
   "metadata": {},
   "source": [
    "Теперь вы видите название категории и её подкатегории со значениями объёма трафика по каждой.\n",
    "\n",
    "Как видно, основная категория включает в себя подкатегорию и это представлено в структуре датафрейма: категория отображена иерархически главной над подкатегорией. Такие датафреймы содержат в себе мультииндекс. Часто при работе с такими датафреймами мультииндекс убирают, чтобы категория была отображена на каждой строчке датафрейма:\n",
    "\n",
    "**pd.pivot_table(df, index=['category_name', 'subcategory_name'], values=[\"visits\"], \n",
    "               columns=[\"source\"], aggfunc='sum').reset_index()**\n"
   ]
  },
  {
   "cell_type": "code",
   "execution_count": null,
   "metadata": {},
   "outputs": [],
   "source": [
    "data_pivot = df.pivot_table(index=['category_name', 'subcategory_name'], values=[\"visits\"], \n",
    "               columns=[\"source\"], aggfunc='sum').reset_index()\n",
    "data_pivot\n"
   ]
  },
  {
   "cell_type": "markdown",
   "metadata": {},
   "source": [
    "В таблице выше суммы визитов **visits** по каждому из источников **source (direct и organic)** представлены в отдельных столбцах. Такой вид таблицы называется «широкий». Он удобен, когда нужно сравнить значения столбцов. Хорошо заметно, например, что в подкатегории «Автомобильные инверторы» количество визитов из источников **direct** и **organic** практически одинаково, а в подкатегории «Автомагнитолы» из источника **organic** пришло почти в два раза больше посетителей, чем из **direct**."
   ]
  },
  {
   "cell_type": "markdown",
   "metadata": {},
   "source": [
    "## Расширенная фильтрация сводной таблицы\n",
    "\n",
    "После того, как вы сгенерировали свои данные, они находятся в **DataFrame**, поэтому можно фильтровать их, используя обычные методы **DataFrame**.\n",
    "\n",
    "Если вы хотите посмотреть только на одну категорию, например, \"Товары для дома\":\n",
    "\n",
    "**data_pivot = pd.pivot_table(df, index=['category_name', 'subcategory_name'], values='visits', columns='source',\n",
    "                            aggfunc='sum').reset_index()**\n",
    "**print((data_pivot[data_pivot['category_name']=='Товары для дома']).head(10))**"
   ]
  },
  {
   "cell_type": "code",
   "execution_count": null,
   "metadata": {},
   "outputs": [],
   "source": [
    "data_pivot = pd.pivot_table(df, index=['category_name', 'subcategory_name'], values='visits', columns='source',\n",
    "                            aggfunc='sum').reset_index()\n",
    "print((data_pivot[data_pivot['category_name']=='Товары для дома']).head(10))\n",
    "\n"
   ]
  },
  {
   "cell_type": "markdown",
   "metadata": {},
   "source": [
    "Или, например, мы можем узнать на какие товары запросы с органического трафика в разы больше, чем с прямого. Для этого создадим в таблице **data_pivot** новый столбец **'ratio'** и сохраните в нём значение отношения органического трафика **'organic'** к прямому **'direct'**. \n",
    "\n",
    "Отсортируем таблицу по столбцу 'ratio' в порядке убывания. Выведите первые 10 строк. \n",
    "\n",
    "**data_pivot['ratio'] = data_pivot['organic'] / data_pivot['direct']**\n",
    "\n",
    "**data_my = data_pivot.sort_values(by = 'ratio', ascending=False)**\n",
    "\n",
    "**print(data_my.head(10))**"
   ]
  },
  {
   "cell_type": "code",
   "execution_count": null,
   "metadata": {},
   "outputs": [],
   "source": [
    "data_pivot['ratio'] = data_pivot['organic'] / data_pivot['direct']\n",
    "data_my = data_pivot.sort_values(by = 'ratio', ascending=False)\n",
    "print(data_my.head(10))"
   ]
  },
  {
   "cell_type": "markdown",
   "metadata": {},
   "source": [
    "# Задачи для самостоятельного выполнения\n",
    "\n",
    "Для начала давайте представим, что мы являемся аналитиками в фирме по продаже компьютеров, программного обеспечения к ним, а также оказываем услуги по техническому сопровождению. Нам поставлена задача проанализировать участие компании в различных аукционах. \n",
    "\n",
    "1. Прочитайте и сохраните файл \"baza.xlsx\" с данными аукционов в переменную data_pd."
   ]
  },
  {
   "cell_type": "code",
   "execution_count": null,
   "metadata": {},
   "outputs": [],
   "source": [
    "data_pd = pd.read_excel('baza.xlsx')\n",
    "data_pd.info()\n",
    "data_pd.columns"
   ]
  },
  {
   "cell_type": "markdown",
   "metadata": {},
   "source": [
    "2. Cоздайте сводную таблицу сводную таблицу по столбцу Контрагент:"
   ]
  },
  {
   "cell_type": "code",
   "execution_count": null,
   "metadata": {},
   "outputs": [],
   "source": [
    "data_pivot1 = data_pd.pivot_table(index=['Контрагент'], values=['Цена', 'Количество'])\n",
    "data_pivot1"
   ]
  },
  {
   "cell_type": "markdown",
   "metadata": {},
   "source": [
    "3. Создайте сводную таблицу по нескольким индексируемым столбцам  'Контакт', 'Менеджер':\n"
   ]
  },
  {
   "cell_type": "code",
   "execution_count": null,
   "metadata": {},
   "outputs": [],
   "source": [
    "data_pivot = data_pd.pivot_table(index=['Контакт', 'Менеджер'], values=['Цена', 'Количество'])\n",
    "data_pivot"
   ]
  },
  {
   "cell_type": "markdown",
   "metadata": {},
   "source": [
    "4. По умолчанию сводная таблица выводится по всем числовым полям, однако это не всегда удобно, а иногда и лишено смысла, поэтому можно выводить сводные данные только по отдельным столбцам. Выведите только столбец \"Стоимость\", для этого добавьте параметр values=['Цена']:"
   ]
  },
  {
   "cell_type": "code",
   "execution_count": null,
   "metadata": {},
   "outputs": [],
   "source": [
    "data_pivot = data_pd.pivot_table(index=['Контакт', 'Менеджер'], values=['Цена'])\n",
    "data_pivot"
   ]
  },
  {
   "cell_type": "markdown",
   "metadata": {},
   "source": [
    "5. Столбец с ценой по умолчанию выводит среднее значение, однако нам скорее интересна сумма продаж. Добавляем параметр aggfunc='sum':"
   ]
  },
  {
   "cell_type": "code",
   "execution_count": null,
   "metadata": {},
   "outputs": [],
   "source": [
    "data_pivot = data_pd.pivot_table(index=['Контакт', 'Менеджер'], values=['Цена'], aggfunc='sum')\n",
    "data_pivot"
   ]
  },
  {
   "cell_type": "markdown",
   "metadata": {},
   "source": [
    "6. С помощью параметра columns выведите в столбцы наименование продуктов:"
   ]
  },
  {
   "cell_type": "code",
   "execution_count": null,
   "metadata": {},
   "outputs": [],
   "source": [
    "data_pivot = data_pd.pivot_table(index=['Контакт', 'Менеджер'], columns='Продукт', values=['Цена'], aggfunc='sum')\n",
    "data_pivot"
   ]
  },
  {
   "cell_type": "markdown",
   "metadata": {},
   "source": [
    "7. Наверное вы обратили внимание, что в ячейках, где нет данных пусто, хотя нам привычнее, что бы в таких полях указывалось бы значение 0. Добавьте параметр fill_value=0:"
   ]
  },
  {
   "cell_type": "code",
   "execution_count": null,
   "metadata": {},
   "outputs": [],
   "source": [
    "data_pivot = data_pd.pivot_table(index=['Контакт', 'Менеджер'], columns='Продукт', values=['Цена'],\n",
    "                                  aggfunc='sum', fill_value=0)\n",
    "data_pivot"
   ]
  },
  {
   "cell_type": "markdown",
   "metadata": {},
   "source": [
    "8. Вероятно полезно было бы рассматривать эффективность деятельности наших менеджеров не только по стоимости продаж, но и по их количеству. Добавьте в параметр values переменную  \"Количество\""
   ]
  },
  {
   "cell_type": "code",
   "execution_count": null,
   "metadata": {},
   "outputs": [],
   "source": [
    "data_pivot = data_pd.pivot_table(index=['Контакт', 'Менеджер'], columns='Продукт', values=['Цена', 'Количество'],\n",
    "                                  aggfunc='sum', fill_value=0)\n",
    "data_pivot"
   ]
  },
  {
   "cell_type": "markdown",
   "metadata": {},
   "source": [
    "9. Выведите продажи только менеджера \"Илья Сергеев\":"
   ]
  },
  {
   "cell_type": "code",
   "execution_count": null,
   "metadata": {},
   "outputs": [],
   "source": [
    "data_pivot.columns\n",
    "data_pivot.loc[data_pivot.index.get_level_values('Менеджер') == 'Илья Сергеев']"
   ]
  }
 ],
 "metadata": {
  "kernelspec": {
   "display_name": "Python 3 (ipykernel)",
   "language": "python",
   "name": "python3"
  },
  "language_info": {
   "codemirror_mode": {
    "name": "ipython",
    "version": 3
   },
   "file_extension": ".py",
   "mimetype": "text/x-python",
   "name": "python",
   "nbconvert_exporter": "python",
   "pygments_lexer": "ipython3",
   "version": "3.9.12"
  }
 },
 "nbformat": 4,
 "nbformat_minor": 4
}
