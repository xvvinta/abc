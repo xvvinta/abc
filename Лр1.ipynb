{
  "nbformat": 4,
  "nbformat_minor": 0,
  "metadata": {
    "colab": {
      "provenance": []
    },
    "kernelspec": {
      "name": "python3",
      "display_name": "Python 3"
    },
    "language_info": {
      "name": "python"
    }
  },
  "cells": [
    {
      "cell_type": "markdown",
      "source": [
        "Знакомому формату электронной таблицы Excel в Pandas соответствует структура данных DataFrame. Аналитики обычно называют такие объекты просто DataFrame.\n",
        "В рабочей практике вы столкнётесь с тем, что данные хранят в файлах разных форматов. Из них самый распространённый – CSV (от англ. Comma-Separated Values, «значения, разделённые запятой»). Каждая строка такого файла представляет собой одну строку таблицы, где данные разделены запятыми. В первой строке собраны заголовки столбцов (если они есть).\n",
        "\n",
        "Файлы CSV удобнее всего открывать вызовом метода read_csv() из библиотеки Pandas.\n",
        "Команда для открыия файла имеет вид:\n",
        "**import pandas as pd\n",
        "df = pd.read_csv('music_log.csv') # аргумент - путь к файлу**\n",
        "\n",
        "Теперь все данные из файла можно напечатать на экране командой **print(df)**, но это не всегда нужно делать — не исключено, что таблица огромна и неудобна для изучения. Для знакомства с данными запрашивают несколько строк из начала или конца таблицы, вызывая специальные методы **head()** и **tail()**. По умолчанию **head()** возвращает первые 5 строк набора данных, а метод **tail()** – последние 5 строк. Когда нужно не 5, количество строк передаётся этим методам как аргумент. Например, **head(10)** вернёт первые 10 строк.\n",
        "\n",
        "1. Загрузите базу данных по пассажирам “Титаника”.  https://raw.githubusercontent.com/allatambov/Py-programming-3/master/28-05/Titanic.csv.\n",
        "2. Выведите на печать первые десять строк таблицы.\n",
        "\n",
        "\n"
      ],
      "metadata": {
        "id": "q3eAkOxrIHl3"
      }
    },
    {
      "cell_type": "code",
      "execution_count": null,
      "metadata": {
        "colab": {
          "base_uri": "https://localhost:8080/"
        },
        "id": "28TYf1qrIEID",
        "outputId": "7c98c993-fae0-4b55-f220-fc88aede70cd"
      },
      "outputs": [
        {
          "output_type": "stream",
          "name": "stdout",
          "text": [
            "   PassengerId  Survived  Pclass  \\\n",
            "0            1         0       3   \n",
            "1            2         1       1   \n",
            "2            3         1       3   \n",
            "3            4         1       1   \n",
            "4            5         0       3   \n",
            "5            6         0       3   \n",
            "6            7         0       1   \n",
            "7            8         0       3   \n",
            "8            9         1       3   \n",
            "9           10         1       2   \n",
            "\n",
            "                                                Name     Sex   Age  SibSp  \\\n",
            "0                            Braund, Mr. Owen Harris    male  22.0      1   \n",
            "1  Cumings, Mrs. John Bradley (Florence Briggs Th...  female  38.0      1   \n",
            "2                             Heikkinen, Miss. Laina  female  26.0      0   \n",
            "3       Futrelle, Mrs. Jacques Heath (Lily May Peel)  female  35.0      1   \n",
            "4                           Allen, Mr. William Henry    male  35.0      0   \n",
            "5                                   Moran, Mr. James    male   NaN      0   \n",
            "6                            McCarthy, Mr. Timothy J    male  54.0      0   \n",
            "7                     Palsson, Master. Gosta Leonard    male   2.0      3   \n",
            "8  Johnson, Mrs. Oscar W (Elisabeth Vilhelmina Berg)  female  27.0      0   \n",
            "9                Nasser, Mrs. Nicholas (Adele Achem)  female  14.0      1   \n",
            "\n",
            "   Parch            Ticket     Fare Cabin Embarked  \n",
            "0      0         A/5 21171   7.2500   NaN        S  \n",
            "1      0          PC 17599  71.2833   C85        C  \n",
            "2      0  STON/O2. 3101282   7.9250   NaN        S  \n",
            "3      0            113803  53.1000  C123        S  \n",
            "4      0            373450   8.0500   NaN        S  \n",
            "5      0            330877   8.4583   NaN        Q  \n",
            "6      0             17463  51.8625   E46        S  \n",
            "7      1            349909  21.0750   NaN        S  \n",
            "8      2            347742  11.1333   NaN        S  \n",
            "9      0            237736  30.0708   NaN        C  \n"
          ]
        }
      ],
      "source": [
        "import pandas as pd\n",
        "url = 'https://raw.githubusercontent.com/allatambov/Py-programming-3/master/28-05/Titanic.csv'\n",
        "\n",
        "df = pd.read_csv(url)\n",
        "\n",
        "print(df.head(10))"
      ]
    },
    {
      "cell_type": "markdown",
      "source": [
        "Таблица, которую мы получили, хранится в структуре данных DataFrame. DataFrame — это двумерная структура данных Pandas, где у каждого элемента есть две координаты: по строке и по столбцу. Вы видите две оси, которые формируют объект DataFrame. Первая ось называется индексы, вторая ось — столбцы. По умолчанию индексация в DataFrame начинается с нуля.\n",
        "Каждая строка — это одно наблюдение, запись об объекте исследования. А столбцы — признаки объектов. В нашем случае одна строка — это информация об одном пассажире, включая класс, фамилию-имя, возраст и т.д.\n",
        "Подробнее об этом датасете можно почитать здесь http://campus.lakeforest.edu/frank/FILES/MLFfiles/Bio150/Titanic/TitanicMETA.pdf.\n",
        "Для лучшего понимания данных полезно получить доступ к их описанию. Это либо документация со сведениями о содержании каждого столбца, либо – не самый лучший вариант – рассказ человека, который предоставил вам эту информацию.\n",
        "Такое описание поможет нам ставить себе корректные задачи.\n",
        "\n",
        "У DataFrame есть неотъемлемые свойства, значения которых можно запросить. Они называются атрибуты. Например, атрибут columns содержит информацию о названиях столбцов в наборе данных.\n",
        "**print(df.columns)**\n"
      ],
      "metadata": {
        "id": "vE5y7CYLIO0B"
      }
    },
    {
      "cell_type": "code",
      "source": [
        "import pandas as pd\n",
        "url = 'https://raw.githubusercontent.com/allatambov/Py-programming-3/master/28-05/Titanic.csv'\n",
        "\n",
        "df = pd.read_csv(url)\n",
        "\n",
        "print(df.columns)"
      ],
      "metadata": {
        "colab": {
          "base_uri": "https://localhost:8080/"
        },
        "id": "eJv9am_vIYG0",
        "outputId": "aa891521-6053-4387-e239-da8188a675d8"
      },
      "execution_count": null,
      "outputs": [
        {
          "output_type": "stream",
          "name": "stdout",
          "text": [
            "Index(['PassengerId', 'Survived', 'Pclass', 'Name', 'Sex', 'Age', 'SibSp',\n",
            "       'Parch', 'Ticket', 'Fare', 'Cabin', 'Embarked'],\n",
            "      dtype='object')\n"
          ]
        }
      ]
    },
    {
      "cell_type": "markdown",
      "source": [
        "В данном случае атрибут **columns** вернул список названий столбцов и сообщил, что каждое из них имеет тип данных **object**.\n",
        "Вообще типы данных могут быть разные. Для просмотра типа данных каждого столбца лучше всего использовать атрибут **dtypes**.\n"
      ],
      "metadata": {
        "id": "JpfisgyFI2ze"
      }
    },
    {
      "cell_type": "code",
      "source": [
        "import pandas as pd\n",
        "url = 'https://raw.githubusercontent.com/allatambov/Py-programming-3/master/28-05/Titanic.csv'\n",
        "\n",
        "df = pd.read_csv(url)\n",
        "\n",
        "print(df.dtypes)"
      ],
      "metadata": {
        "colab": {
          "base_uri": "https://localhost:8080/"
        },
        "id": "ubZG1ST0I3Ua",
        "outputId": "d069c930-9356-4c1d-8b35-c44d4ea807c3"
      },
      "execution_count": null,
      "outputs": [
        {
          "output_type": "stream",
          "name": "stdout",
          "text": [
            "PassengerId      int64\n",
            "Survived         int64\n",
            "Pclass           int64\n",
            "Name            object\n",
            "Sex             object\n",
            "Age            float64\n",
            "SibSp            int64\n",
            "Parch            int64\n",
            "Ticket          object\n",
            "Fare           float64\n",
            "Cabin           object\n",
            "Embarked        object\n",
            "dtype: object\n"
          ]
        }
      ]
    },
    {
      "cell_type": "markdown",
      "source": [
        "Типы данных, о которых сообщают нам атрибуты — это типы данных библиотеки Pandas. Каждому из них соответствует определённый тип данных языка Python.\n",
        "Так, для **int** таким «двойником» в Pandas будет **int64**. Тип данных object используется, когда данные не подходят ни под одну категорию или соответствуют в Python типу «строка». Вот таблица соответствия типов данных Pandas и Python:\n",
        "PANDASDTYPE    PYTHON TYPE\t     ЗНАЧЕНИЕ\n",
        "object\t          str \t         Строка\n",
        "int64\t          int\t         Целые числа\n",
        "float64\t         float\t         Вещественные числа\n",
        "bool\t          bool\t         Логический тип данных\n",
        "О размерах таблицы с данными сообщает её атрибут **shape**. В результате получается кортеж (неизменяемый список) из двух чисел: первое – количество строк, второе – количество столбцов.\n"
      ],
      "metadata": {
        "id": "7M-937akI9s8"
      }
    },
    {
      "cell_type": "code",
      "source": [
        "import pandas as pd\n",
        "\n",
        "url = 'https://raw.githubusercontent.com/allatambov/Py-programming-3/master/28-05/Titanic.csv'\n",
        "\n",
        "df = pd.read_csv(url)\n",
        "\n",
        "print(\"Типы данных в каждом столбце:\")\n",
        "print(df.dtypes)\n",
        "\n",
        "print(\"\\nРазмер таблицы (строки, столбцы):\")\n",
        "print(df.shape)\n"
      ],
      "metadata": {
        "id": "wMVl89msJC7F",
        "colab": {
          "base_uri": "https://localhost:8080/"
        },
        "outputId": "70798ae1-eed9-43ff-d17b-971b1d460576"
      },
      "execution_count": null,
      "outputs": [
        {
          "output_type": "stream",
          "name": "stdout",
          "text": [
            "Типы данных в каждом столбце:\n",
            "PassengerId      int64\n",
            "Survived         int64\n",
            "Pclass           int64\n",
            "Name            object\n",
            "Sex             object\n",
            "Age            float64\n",
            "SibSp            int64\n",
            "Parch            int64\n",
            "Ticket          object\n",
            "Fare           float64\n",
            "Cabin           object\n",
            "Embarked        object\n",
            "dtype: object\n",
            "\n",
            "Размер таблицы (строки, столбцы):\n",
            "(891, 12)\n"
          ]
        }
      ]
    },
    {
      "cell_type": "markdown",
      "source": [
        "Всю информацию, которую предоставляют разные атрибуты **DataFrame**, можно получить вызовом одного-единственного метода **info()**. Изучив результаты, которые этот метод возвращает, аналитик выбирает тактику дальнейшей работы с таблицей.\n",
        "\n"
      ],
      "metadata": {
        "id": "NJWvyZDRJenx"
      }
    },
    {
      "cell_type": "code",
      "source": [
        "import pandas as pd\n",
        "\n",
        "url = 'https://raw.githubusercontent.com/allatambov/Py-programming-3/master/28-05/Titanic.csv'\n",
        "\n",
        "df = pd.read_csv(url)\n",
        "\n",
        "df.info()"
      ],
      "metadata": {
        "colab": {
          "base_uri": "https://localhost:8080/"
        },
        "id": "V7eJgWaBJlb3",
        "outputId": "387369b7-8aed-423e-8915-3d4a620355a8"
      },
      "execution_count": null,
      "outputs": [
        {
          "output_type": "stream",
          "name": "stdout",
          "text": [
            "<class 'pandas.core.frame.DataFrame'>\n",
            "RangeIndex: 891 entries, 0 to 890\n",
            "Data columns (total 12 columns):\n",
            " #   Column       Non-Null Count  Dtype  \n",
            "---  ------       --------------  -----  \n",
            " 0   PassengerId  891 non-null    int64  \n",
            " 1   Survived     891 non-null    int64  \n",
            " 2   Pclass       891 non-null    int64  \n",
            " 3   Name         891 non-null    object \n",
            " 4   Sex          891 non-null    object \n",
            " 5   Age          714 non-null    float64\n",
            " 6   SibSp        891 non-null    int64  \n",
            " 7   Parch        891 non-null    int64  \n",
            " 8   Ticket       891 non-null    object \n",
            " 9   Fare         891 non-null    float64\n",
            " 10  Cabin        204 non-null    object \n",
            " 11  Embarked     889 non-null    object \n",
            "dtypes: float64(2), int64(5), object(5)\n",
            "memory usage: 83.7+ KB\n"
          ]
        }
      ]
    },
    {
      "cell_type": "markdown",
      "source": [
        "Например, здесь в рахных стольцах разное количество элементов с определёнными значениями (non-null). Следовательно, в таблице есть пропущенные значения (null). Прежде чем анализировать такие данные, их нужно обработать. Это одна из самых интересных задач аналитика, и мы поговорим о ней подробнее в следующей теме."
      ],
      "metadata": {
        "id": "WGKZPJkaJ0Ca"
      }
    },
    {
      "cell_type": "markdown",
      "source": [
        "## Задачи\n",
        "1. Прочитайте файл **student-mat.csv** и сохраните его в переменной **df**. Выведите на экран первые 10 строк таблицы, изучите данныи и описание к таблице. Создайте переменную **shape_table** и сохраните в ней размеры таблицы **student-mat.csv**. Напечатайте на экране размер таблицы в таком виде:\n",
        "Размер таблицы: ...\n",
        "2. Сколько наблюдений в наборе данных? В переменной **shape_table** хранится кортеж. Его первый элемент — количество наблюдений, который надо сохранить в переменной **observations_table** (не забывайте, что индексация элементов идёт с 0). Напечатайте на экране ответ в таком виде:\n",
        "Количество наблюдений: ...\n",
        "3. Найдите в информации, которую вернул метод **info()**, число наблюдений. Вручную присвойте это число как значение переменной **observations_info_table**.\n",
        "4. Поскольку в ходе работы аналитик объявляет разные переменные и сохраняет в них добытую разными способами информацию, запутаться очень легко. Именно поэтому необходимо проверять себя и текущие результаты. Сравните полученные результаты в переменных observations_info_table и observations_table. Если значения переменных совпадают, то выведите количество наблюдений и сообщение:\n",
        "'Решение верно, количество наблюдений равно', observations_table   \n",
        "Если значения переменных не совпадают, то выведите сообщение:\n",
        "'Решение неверно, проверьте ещё раз!'\n"
      ],
      "metadata": {
        "id": "UXr42dlhJ6AJ"
      }
    },
    {
      "cell_type": "code",
      "source": [
        "import pandas as pd\n",
        "\n",
        "df = pd.read_csv('student-mat.csv')\n",
        "\n",
        "#1\n",
        "\n",
        "df.head(10)\n",
        "\n",
        "shape_table = df.shape\n",
        "\n",
        "print('Размер таблицы:',shape_table)\n",
        "\n",
        "#2\n",
        "observations_table = shape_table[0]\n",
        "\n",
        "print('Количество наблюдений:', observations_table)\n",
        "\n",
        "df.info()\n",
        "observations_into_table = 395\n",
        "\n",
        "if observations_into_table == observations_table:\n",
        "  print('Решение верно, количество наблюдений равно', observations_table)\n",
        "else:\n",
        "  print('Решение неверно, проверьте ещё раз!')\n",
        "\n"
      ],
      "metadata": {
        "colab": {
          "base_uri": "https://localhost:8080/"
        },
        "id": "l0D66G11QIjE",
        "outputId": "a1669113-fc4d-427a-eeaf-f121f48db80e"
      },
      "execution_count": null,
      "outputs": [
        {
          "output_type": "stream",
          "name": "stdout",
          "text": [
            "Размер таблицы: (395, 33)\n",
            "Количество наблюдений: 395\n",
            "<class 'pandas.core.frame.DataFrame'>\n",
            "RangeIndex: 395 entries, 0 to 394\n",
            "Data columns (total 33 columns):\n",
            " #   Column      Non-Null Count  Dtype \n",
            "---  ------      --------------  ----- \n",
            " 0   school      395 non-null    object\n",
            " 1   sex         395 non-null    object\n",
            " 2   age         395 non-null    int64 \n",
            " 3   address     395 non-null    object\n",
            " 4   famsize     395 non-null    object\n",
            " 5   Pstatus     395 non-null    object\n",
            " 6   Medu        395 non-null    int64 \n",
            " 7   Fedu        395 non-null    int64 \n",
            " 8   Mjob        395 non-null    object\n",
            " 9   Fjob        395 non-null    object\n",
            " 10  reason      395 non-null    object\n",
            " 11  guardian    395 non-null    object\n",
            " 12  traveltime  395 non-null    int64 \n",
            " 13  studytime   395 non-null    int64 \n",
            " 14  failures    395 non-null    int64 \n",
            " 15  schoolsup   395 non-null    object\n",
            " 16  famsup      395 non-null    object\n",
            " 17  paid        395 non-null    object\n",
            " 18  activities  395 non-null    object\n",
            " 19  nursery     395 non-null    object\n",
            " 20  higher      395 non-null    object\n",
            " 21  internet    395 non-null    object\n",
            " 22  romantic    395 non-null    object\n",
            " 23  famrel      395 non-null    int64 \n",
            " 24  freetime    395 non-null    int64 \n",
            " 25  goout       395 non-null    int64 \n",
            " 26  Dalc        395 non-null    int64 \n",
            " 27  Walc        395 non-null    int64 \n",
            " 28  health      395 non-null    int64 \n",
            " 29  absences    395 non-null    int64 \n",
            " 30  G1          395 non-null    int64 \n",
            " 31  G2          395 non-null    int64 \n",
            " 32  G3          395 non-null    int64 \n",
            "dtypes: int64(16), object(17)\n",
            "memory usage: 102.0+ KB\n",
            "Решение верно, количество наблюдений равно 395\n"
          ]
        }
      ]
    },
    {
      "cell_type": "markdown",
      "source": [],
      "metadata": {
        "id": "D2n8tnnZUD17"
      }
    },
    {
      "cell_type": "markdown",
      "source": [
        "## Идексация в DataFrame\n",
        "К каждой ячейке с данными в **DataFrame** можно обратиться по её индексу и названию столбца. Мы можем получать различные срезы данных в зависимости от того, какой запрос к **DataFrame** мы сформулируем. Этот процесс называется индексация. Для **DataFrame** она проводится разными способами.\n",
        "Атрибут **loc[строка, столбец]** даёт доступ к элементу по строке и столбцу.\n",
        "\n",
        "ВИД\t                                                  РЕАЛИЗАЦИЯ\n",
        "Одна ячейка\t                                         .loc[7, 'genre']\n",
        "Один столбец\t                                     .loc[:, 'genre']\n",
        "Несколько столбцов                                   .loc[:, ['genre', 'Artist']]\n",
        "Несколько столбцов подряд (срез)\t                 .loc[:, 'user_id': 'genre']\n",
        "Одна строка\t                                         .loc[1]\n",
        "Все строки, начиная с заданной\t                     .loc[1:]\n",
        "Все строки до заданной\t                             .loc[:3]\n",
        "Несколько строк подряд (срез)\t                     .loc[2:5]\n",
        "\n",
        "Также вы могли заметить, что запрос к атрибуту loc[] использует квадратные скобки, это напоминает списки в Python. Индексация здесь очень похожа на индексацию списков.\n",
        "Важное замечание: когда мы используем срезы в списках, то конец среза не включается в результат. А вот атрибут .loc[] тем и выделяется, что включает и начало, и конец среза.\n",
        "Например, есть список исполнителей:\n",
        "\n",
        "**artist = ['Marina Rei', 'Stive Morgan','Rixton','Henry Hall & His Gleneagles Hotel Band', 'Andrew Paul Woodworth', 'Pillar Point','Steve Campbell','David Civera','Lumipa Beats', 'Henning Wehland']**\n",
        "Элементы с 2 по 4 получают запросом:\n",
        "**print(artist[2:5])**\n",
        "['Rixton', 'Henry Hall & His Gleneagles Hotel Band', 'Andrew Paul Woodworth']\n",
        "Последним в запросе указан индекс 5 — именно для того, чтобы в срез попал элемент с индексом 4. Запрос на получение со 2 по 4 строки в таблице будет выглядеть вот так:\n",
        "\n",
        "**print(df.loc[2:4])**\n",
        "Самые ходовые запросы, которые вам предстоит делать как аналитику данных это запрашивать один столбец, одну строку, диапазон столбцов и диапазон строк.\n",
        "Для подсчета количества определенных значений в срезе данных в  Pandas для этого есть метод count().\n",
        "Например, на нужно подсчитать количество детей, младше трех лет на Титанике. Для столбца 'Age' таблицы  такие ячейки отвечают логическому условию df.loc[:,Age']<3.\n",
        "Поскольку в указании, какие именно значения считать, нужен логический оператор, такой доступ к значению ячейки называют логическая индексация.\n",
        "\n"
      ],
      "metadata": {
        "id": "lc3jb8_WJ6Vr"
      }
    },
    {
      "cell_type": "markdown",
      "source": [
        "## Задачи\n",
        "1. Теперь по аналогии создайте Series, где хранятся данные только о выживаемости мужчин. Назовите его men_life и сохраните в нем данные столбца Survived.\n",
        "2. Обратитесь к созданной переменной для подсчета выживших мужчин. Сохраните результат в переменной quantity_men и напечатайте на экране в виде **Количество выживших женщин равно...**.\n",
        "3. Для обои полов посчитайте долю выживших в процентах. Разделите количество выживших на общее количество мужчин и женщин. Выведите значения новых переменных в процентах с точностью до одного знака после запятой."
      ],
      "metadata": {
        "id": "dnJ8jNDvJ8DE"
      }
    },
    {
      "cell_type": "code",
      "source": [
        "import pandas as pd\n",
        "\n",
        "url = 'https://raw.githubusercontent.com/allatambov/Py-programming-3/master/28-05/Titanic.csv'\n",
        "\n",
        "df = pd.read_csv(url)\n",
        "\n",
        "# 1. Создаем Series с данными о выживших мужчинах\n",
        "men_life = df[df['Sex'] == 'male']['Survived']\n",
        "\n",
        "# 2. Подсчитываем количество выживших мужчин\n",
        "quantity_men = men_life.sum()\n",
        "\n",
        "quantity_women = df[df['Sex'] == 'female']['Survived'].sum()\n",
        "\n",
        "print(f\"Количество выживших женщин равно {quantity_women}\")\n",
        "\n",
        "# 3. Подсчитываем долю выживших в процентах для мужчин и женщин\n",
        "total_men = (df['Sex'] == 'male').sum()\n",
        "total_women = (df['Sex'] == 'female').sum()\n",
        "\n",
        "percent_men_survived = (quantity_men / total_men) * 100\n",
        "percent_women_survived = (quantity_women / total_women) * 100\n",
        "\n",
        "print(f\"Доля выживших мужчин: {percent_men_survived:.1f}%\")\n",
        "print(f\"Доля выживших женщин: {percent_women_survived:.1f}%\")"
      ],
      "metadata": {
        "colab": {
          "base_uri": "https://localhost:8080/"
        },
        "id": "hTyDDEBOKLau",
        "outputId": "9427811d-b7b9-4d16-cf1b-1d2177771002"
      },
      "execution_count": null,
      "outputs": [
        {
          "output_type": "stream",
          "name": "stdout",
          "text": [
            "Количество выживших женщин равно 233\n",
            "Доля выживших мужчин: 18.9%\n",
            "Доля выживших женщин: 74.2%\n"
          ]
        }
      ]
    },
    {
      "cell_type": "markdown",
      "source": [
        "Процент невыживших мужчин из 1 и 2 класса"
      ],
      "metadata": {
        "id": "Pbhc7nx6UE3C"
      }
    },
    {
      "cell_type": "code",
      "source": [
        "import pandas as pd\n",
        "\n",
        "url = 'https://raw.githubusercontent.com/allatambov/Py-programming-3/master/28-05/Titanic.csv'\n",
        "\n",
        "df = pd.read_csv(url)\n",
        "\n",
        "men12class = df[(df['Sex'] == 'male') & (df['Pclass'].isin([1,2]))]\n",
        "\n",
        "quantity_men12 = len(men12class)\n",
        "\n",
        "died_men12 = len(men12class[men12class['Survived'] == 0])\n",
        "\n",
        "percent = (died_men12 / quantity_men12) * 100\n",
        "\n",
        "print('Процент невыживших мужчин из 1 и 2 класса равно:', percent)\n"
      ],
      "metadata": {
        "colab": {
          "base_uri": "https://localhost:8080/"
        },
        "id": "3QSFPdHlULn6",
        "outputId": "08b6bd9c-2e33-43c3-9edc-b74445463c11"
      },
      "execution_count": null,
      "outputs": [
        {
          "output_type": "stream",
          "name": "stdout",
          "text": [
            "Процент невыживших мужчин из 1 и 2 класса равно: 73.04347826086956\n"
          ]
        }
      ]
    },
    {
      "cell_type": "code",
      "source": [],
      "metadata": {
        "id": "u59-0iQZV6r0"
      },
      "execution_count": null,
      "outputs": []
    }
  ]
}